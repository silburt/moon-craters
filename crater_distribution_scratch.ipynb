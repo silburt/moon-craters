{
 "cells": [
  {
   "cell_type": "code",
   "execution_count": 1,
   "metadata": {
    "collapsed": true
   },
   "outputs": [],
   "source": [
    "import numpy as np\n",
    "import cPickle\n",
    "import cv2\n",
    "import glob\n",
    "import os\n",
    "import pandas as pd\n",
    "from PIL import Image\n",
    "import matplotlib.pyplot as plt\n",
    "%matplotlib inline\n",
    "\n",
    "from utils.template_match_target import *"
   ]
  },
  {
   "cell_type": "code",
   "execution_count": 2,
   "metadata": {
    "collapsed": true
   },
   "outputs": [],
   "source": [
    "def get_im_cv2(path, img_width, img_height):\n",
    "    img = cv2.imread(path, cv2.IMREAD_GRAYSCALE)\n",
    "    #resized = cv2.resize(img, (img_width, img_height))#, cv2.INTER_LINEAR)\n",
    "    return img\n",
    "\n",
    "def load_data(path, data_type, img_width, img_height):\n",
    "    X, X_id, y = [], [], []\n",
    "    minpix = 2                                  #minimum number of pixels for crater to count\n",
    "    files = glob.glob('%s*.png'%path)\n",
    "    minpix, maxpix = 2, 100                          #minimum pixels required for a crater to register in an image\n",
    "    print \"number of %s files are: %d\"%(data_type,len(files))\n",
    "    for f in files:\n",
    "        flbase = os.path.basename(f)\n",
    "        img = get_im_cv2(f,img_width,img_height) / 255.\n",
    "        X.append(img)\n",
    "        y.append(np.array(Image.open('%smask.tiff'%f.split('.png')[0])))\n",
    "        X_id.append(int(flbase.split('lola_')[1].split('.png')[0]))\n",
    "        \n",
    "        #csv = pd.read_csv('%s.csv'%f.split('.png')[0])\n",
    "        #csv = csv[(csv['Diameter (pix)'] < maxpix) & (csv['Diameter (pix)'] > minpix)]\n",
    "        #target = mdm.make_mask(csv, img, binary=True, truncate=True, rings=True)\n",
    "        #target = mdm.make_circlering_mask(csv, img, binary=True, truncate=True)\n",
    "        #target = mdm.make_mask(csv, img, binary=True, rings=True, ringwidth=1, truncate=True)\n",
    "        #y.append(target)\n",
    "    return  X, y, X_id\n",
    "\n",
    "def read_and_normalize_data(path, img_width, img_height, data_flag):\n",
    "    if data_flag == 0:\n",
    "        data_type = 'train'\n",
    "    elif data_flag == 1:\n",
    "        data_type = 'test'\n",
    "    data, target, id_ = load_data(path, data_type, img_width, img_height)\n",
    "    data = np.array(data).astype('float32')     #convert to numpy, convert to float\n",
    "    data = data.reshape(len(data),img_width,img_height,1)\n",
    "    target = np.array(target).astype('float32')\n",
    "    print('%s shape:'%data_type, data.shape)\n",
    "    return data, target, id_\n",
    "\n",
    "#save target no border for Hough circles\n",
    "def save_image(data, cm, fn):\n",
    "    sizes = np.shape(data)\n",
    "    height = float(sizes[0])\n",
    "    width = float(sizes[1])\n",
    "    fig = plt.figure()\n",
    "    fig.set_size_inches(width/height, 1, forward=False)\n",
    "    ax = plt.Axes(fig, [0., 0., 1., 1.])\n",
    "    ax.set_axis_off()\n",
    "    fig.add_axes(ax)\n",
    "    ax.imshow(data, cmap=cm)\n",
    "    plt.savefig(fn, dpi = height) \n",
    "    \n",
    "def rescale_and_invcolor(data, inv_color, rescale):\n",
    "    for img in data:\n",
    "        if inv_color == 1:\n",
    "            img[img > 0.] = 1. - img[img > 0.]\n",
    "        if rescale == 1:\n",
    "            minn, maxx = np.min(img[img>0]), np.max(img[img>0])\n",
    "            low, hi = 0.1, 1                                                #low, hi rescaling values\n",
    "            img[img>0] = low + (img[img>0] - minn)*(hi - low)/(maxx - minn) #linear re-scaling\n",
    "    return data"
   ]
  },
  {
   "cell_type": "code",
   "execution_count": 3,
   "metadata": {},
   "outputs": [
    {
     "name": "stdout",
     "output_type": "stream",
     "text": [
      "number of train files are: 20\n",
      "('train shape:', (20, 256, 256, 1))\n",
      "number of test files are: 40\n",
      "('test shape:', (40, 256, 256, 1))\n"
     ]
    }
   ],
   "source": [
    "dim, inv_color, rescale = 256, 1, 1\n",
    "train_data, train_target, train_id = read_and_normalize_data('datasets/rings/Train_rings/', dim, dim, 0)\n",
    "test_data, test_target, test_id = read_and_normalize_data('datasets/rings/Test_rings/', dim, dim, 1)\n",
    "\n",
    "#invcolor and rescale\n",
    "if inv_color==1 or rescale==1:\n",
    "    train_data = rescale_and_invcolor(train_data, inv_color, rescale)\n",
    "    test_data = rescale_and_invcolor(test_data, inv_color, rescale)"
   ]
  },
  {
   "cell_type": "code",
   "execution_count": 4,
   "metadata": {},
   "outputs": [
    {
     "name": "stderr",
     "output_type": "stream",
     "text": [
      "Using TensorFlow backend.\n"
     ]
    }
   ],
   "source": [
    "from keras.models import load_model"
   ]
  },
  {
   "cell_type": "code",
   "execution_count": 5,
   "metadata": {
    "collapsed": true
   },
   "outputs": [],
   "source": [
    "filename = 'models/unet_s256_rings_predfull_FL5_glorot_normal.h5'\n",
    "model = load_model(filename)"
   ]
  },
  {
   "cell_type": "code",
   "execution_count": 6,
   "metadata": {
    "collapsed": true
   },
   "outputs": [],
   "source": [
    "n,off=5,0\n",
    "target = model.predict(test_data[off:(n+off)].astype('float32'))\n",
    "target_ids = test_id[off:(n+off)]"
   ]
  },
  {
   "cell_type": "code",
   "execution_count": 7,
   "metadata": {
    "collapsed": true
   },
   "outputs": [],
   "source": [
    "#convert pixel radius to absolute\n",
    "P = cPickle.load(open('datasets/rings/lolaout_test.p', 'r'))\n",
    "\n",
    "master_img_height_pix = 20000.  #number of pixels for height\n",
    "master_img_height_lat = 180.\n",
    "R_moon = 1737                    #radius of the moon (km)\n",
    "olen = 256                       #output length (pixels)"
   ]
  },
  {
   "cell_type": "code",
   "execution_count": 42,
   "metadata": {},
   "outputs": [
    {
     "data": {
      "text/plain": [
       "array([ 154.1484375,  160.9921875,   25.9609375,   32.8046875])"
      ]
     },
     "execution_count": 42,
     "metadata": {},
     "output_type": "execute_result"
    }
   ],
   "source": [
    "P[0]['llbd']"
   ]
  },
  {
   "cell_type": "markdown",
   "metadata": {},
   "source": [
    "# there's a problem here where the radii are all exactly the same!! Bug somewhere"
   ]
  },
  {
   "cell_type": "code",
   "execution_count": 49,
   "metadata": {},
   "outputs": [
    {
     "name": "stdout",
     "output_type": "stream",
     "text": [
      "[[  364.375        518.421875       2.4556259 ]\n",
      " [ 1099.140625     569.984375       3.27416786]\n",
      " [ 1047.578125    1162.953125       2.4556259 ]\n",
      " [  312.8125      1272.5234375      2.4556259 ]\n",
      " [ 1646.9921875   1278.96875        3.27416786]\n",
      " [ 1627.65625       22.1328125      4.09270983]\n",
      " [ 1640.546875     692.4453125      4.09270983]\n",
      " [ 1331.171875     692.4453125      4.09270983]\n",
      " [ 1550.3125       750.453125       4.09270983]\n",
      " [ 1389.1796875    782.6796875      4.09270983]\n",
      " [  299.921875    1562.5625         3.27416786]\n",
      " [ 1221.6015625    363.734375       4.09270983]\n",
      " [  712.421875     557.09375        4.09270983]\n",
      " [ 1389.1796875    686.             4.09270983]\n",
      " [ 1569.6484375    698.890625       4.9112518 ]\n",
      " [  963.7890625    563.5390625      4.9112518 ]\n",
      " [  641.5234375    782.6796875      4.9112518 ]\n",
      " [  351.484375    1433.65625        4.9112518 ]\n",
      " [ 1627.65625      769.7890625      5.72979376]\n",
      " [  738.203125     892.25           7.36687769]\n",
      " [  989.5703125    866.46875       10.64104556]\n",
      " [  699.53125     1607.6796875      9.82250359]\n",
      " [  519.0625       376.625         12.27812949]\n",
      " [  274.140625     350.84375       13.09667145]\n",
      " [ 1363.3984375   1214.515625      13.91521342]\n",
      " [ 1518.0859375    383.0703125     13.91521342]]\n",
      "0\n"
     ]
    },
    {
     "data": {
      "text/plain": [
       "<matplotlib.text.Text at 0x137ac4f10>"
      ]
     },
     "execution_count": 49,
     "metadata": {},
     "output_type": "execute_result"
    },
    {
     "data": {
      "image/png": "[encoded data removed]",
      "text/plain": [
       "<matplotlib.figure.Figure at 0x116fb2950>"
      ]
     },
     "metadata": {},
     "output_type": "display_data"
    }
   ],
   "source": [
    "#code for checking that a discovered crater is new, and hasn't been already discovered in another image.\n",
    "match_thresh2 = 50.\n",
    "dim = 256.\n",
    "pred_crater_dist = np.empty([0,3])\n",
    "for i in range(1):\n",
    "    coords = template_match_target(target[i])\n",
    "    P_ = P[test_id[i]]\n",
    "    #mask = np.zeros((dim,dim))\n",
    "    img_pix_height = P_['box'][2] - P_['box'][0]\n",
    "    pix_to_km = (master_img_height_lat/master_img_height_pix)*(np.pi/180)*(img_pix_height/olen)*R_moon\n",
    "    long_pix,lat_pix,radii_pix = coords.T\n",
    "    radii_km = radii_pix*pix_to_km\n",
    "    long_deg = P_['llbd'][0] + (P_['llbd'][1]-P_['llbd'][0])*(long_pix/dim)\n",
    "    lat_deg = P_['llbd'][3] - (P_['llbd'][3]-P_['llbd'][2])*(lat_pix/dim)\n",
    "    \n",
    "    tuple_ = np.column_stack((long_deg,lat_deg,radii_km))\n",
    "    print tuple_  #there's a problem here where the radii are all exactly the same!! Bug somewhere\n",
    "    if len(pred_crater_dist > 0):\n",
    "        j, N = 0, len(tuple_)\n",
    "        #remove duplicates\n",
    "        while j < N:\n",
    "            diff = (pred_crater_dist - tuple_[j])**2\n",
    "            diffsum = np.asarray([sum(x) for x in diff])\n",
    "            index = diffsum < match_thresh2\n",
    "            if len(np.where(index==True)[0]) > 0:\n",
    "                print tuple_[j], pred_crater_dist[index]\n",
    "                tuple_ = np.delete(tuple_,j,axis=0)\n",
    "                N = len(tuple_)\n",
    "            else:\n",
    "                j += 1\n",
    "    print i\n",
    "    pred_crater_dist = np.concatenate((pred_crater_dist,tuple_))\n",
    "    \n",
    "plt.hist(master_radii_dist, 10)\n",
    "plt.title('radius distribution of labelled craters')\n",
    "plt.xlabel('crater radius (km)')"
   ]
  },
  {
   "cell_type": "code",
   "execution_count": 39,
   "metadata": {},
   "outputs": [
    {
     "data": {
      "text/plain": [
       "array([ 1646.9921875 ,  1278.96875   ,     3.27416786])"
      ]
     },
     "execution_count": 39,
     "metadata": {},
     "output_type": "execute_result"
    }
   ],
   "source": [
    "pred_crater_dist[i]"
   ]
  },
  {
   "cell_type": "code",
   "execution_count": 71,
   "metadata": {},
   "outputs": [
    {
     "data": {
      "text/plain": [
       "<matplotlib.text.Text at 0x13307fb50>"
      ]
     },
     "execution_count": 71,
     "metadata": {},
     "output_type": "execute_result"
    },
    {
     "data": {
      "image/png": "[encoded data removed]",
      "text/plain": [
       "<matplotlib.figure.Figure at 0x133e968d0>"
      ]
     },
     "metadata": {},
     "output_type": "display_data"
    }
   ],
   "source": [
    "plt.hist(master_radii_dist, 10)\n",
    "plt.title('radius distribution of labelled craters')\n",
    "plt.xlabel('crater radius (km)')"
   ]
  },
  {
   "cell_type": "code",
   "execution_count": null,
   "metadata": {
    "collapsed": true
   },
   "outputs": [],
   "source": []
  }
 ],
 "metadata": {
  "kernelspec": {
   "display_name": "Python 2",
   "language": "python",
   "name": "python2"
  },
  "language_info": {
   "codemirror_mode": {
    "name": "ipython",
    "version": 2
   },
   "file_extension": ".py",
   "mimetype": "text/x-python",
   "name": "python",
   "nbconvert_exporter": "python",
   "pygments_lexer": "ipython2",
   "version": "2.7.13"
  }
 },
 "nbformat": 4,
 "nbformat_minor": 2
}
