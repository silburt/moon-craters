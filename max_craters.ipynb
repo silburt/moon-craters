{
 "cells": [
  {
   "cell_type": "code",
   "execution_count": 1,
   "metadata": {
    "collapsed": true
   },
   "outputs": [],
   "source": [
    "import numpy as np\n",
    "import matplotlib.pyplot as plt\n",
    "%matplotlib inline"
   ]
  },
  {
   "cell_type": "code",
   "execution_count": 16,
   "metadata": {
    "collapsed": true
   },
   "outputs": [],
   "source": [
    "f = 'datasets/rings/max_craters_rings.txt'\n",
    "lines = open(f,'r').readlines()"
   ]
  },
  {
   "cell_type": "code",
   "execution_count": 17,
   "metadata": {},
   "outputs": [
    {
     "name": "stdout",
     "output_type": "stream",
     "text": [
      "couldnt float line: number of train files are: 30016\n",
      "\n",
      "couldnt float line: number of valid files are: 30016\n",
      "\n",
      "couldnt float line: number of test files are: 30016\n",
      "\n",
      "couldnt float line: max train craters = 112, max valid craters = 68, max test craters = 111\n",
      "\n"
     ]
    }
   ],
   "source": [
    "craters = []\n",
    "for l in lines:\n",
    "    try:\n",
    "        craters.append(float(l.split()[0]))\n",
    "    except:\n",
    "        print \"couldnt float line: %s\"%l"
   ]
  },
  {
   "cell_type": "code",
   "execution_count": 18,
   "metadata": {},
   "outputs": [],
   "source": [
    "craters2 = np.load('datasets/HEAD/HEAD_max_craters.npy')\n",
    "craters3 = np.load('datasets/HEAD/sala_max_craters.npy')"
   ]
  },
  {
   "cell_type": "code",
   "execution_count": 27,
   "metadata": {},
   "outputs": [
    {
     "data": {
      "image/png": "[encoded data removed]",
      "text/plain": [
       "<matplotlib.figure.Figure at 0x10c285090>"
      ]
     },
     "metadata": {},
     "output_type": "display_data"
    }
   ],
   "source": [
    "plt.hist(craters, int(max(craters)), facecolor='green');\n",
    "plt.hist(craters2, int(max(craters2)), facecolor='red', alpha=0.75);\n",
    "plt.hist(craters3, int(max(craters3)), facecolor='black', alpha=0.5);\n",
    "plt.xlabel('craters per image')\n",
    "plt.title('rings dataset')\n",
    "plt.savefig('output_dir/orig_craters_rings.png')"
   ]
  },
  {
   "cell_type": "code",
   "execution_count": 7,
   "metadata": {},
   "outputs": [
    {
     "name": "stdout",
     "output_type": "stream",
     "text": [
      "24.1018234719 18.4169326005\n"
     ]
    }
   ],
   "source": [
    "print np.mean(craters), np.std(craters)"
   ]
  },
  {
   "cell_type": "code",
   "execution_count": 28,
   "metadata": {},
   "outputs": [
    {
     "name": "stdout",
     "output_type": "stream",
     "text": [
      "25.6819666667 19.0277574821\n"
     ]
    }
   ],
   "source": [
    "print np.mean(craters2), np.std(craters2)"
   ]
  },
  {
   "cell_type": "code",
   "execution_count": 29,
   "metadata": {},
   "outputs": [
    {
     "name": "stdout",
     "output_type": "stream",
     "text": [
      "27.4733666667 19.8863962882\n"
     ]
    }
   ],
   "source": [
    "print np.mean(craters3), np.std(craters3)"
   ]
  },
  {
   "cell_type": "code",
   "execution_count": null,
   "metadata": {
    "collapsed": true
   },
   "outputs": [],
   "source": []
  }
 ],
 "metadata": {
  "kernelspec": {
   "display_name": "Python 2",
   "language": "python",
   "name": "python2"
  },
  "language_info": {
   "codemirror_mode": {
    "name": "ipython",
    "version": 2
   },
   "file_extension": ".py",
   "mimetype": "text/x-python",
   "name": "python",
   "nbconvert_exporter": "python",
   "pygments_lexer": "ipython2",
   "version": "2.7.13"
  }
 },
 "nbformat": 4,
 "nbformat_minor": 2
}
