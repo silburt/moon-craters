{
 "cells": [
  {
   "cell_type": "code",
   "execution_count": 1,
   "metadata": {
    "collapsed": true
   },
   "outputs": [],
   "source": [
    "import numpy as np\n",
    "import cPickle\n",
    "import cv2\n",
    "import glob\n",
    "import os\n",
    "import pandas as pd\n",
    "from PIL import Image\n",
    "import matplotlib.pyplot as plt\n",
    "%matplotlib inline\n",
    "\n",
    "from utils.template_match_target import *"
   ]
  },
  {
   "cell_type": "code",
   "execution_count": 2,
   "metadata": {
    "collapsed": true
   },
   "outputs": [],
   "source": [
    "def get_im_cv2(path, img_width, img_height):\n",
    "    img = cv2.imread(path, cv2.IMREAD_GRAYSCALE)\n",
    "    #resized = cv2.resize(img, (img_width, img_height))#, cv2.INTER_LINEAR)\n",
    "    return img\n",
    "\n",
    "def load_data(path, data_type, img_width, img_height):\n",
    "    X, X_id, y = [], [], []\n",
    "    minpix = 2                                  #minimum number of pixels for crater to count\n",
    "    files = glob.glob('%s*.png'%path)\n",
    "    minpix, maxpix = 2, 100                          #minimum pixels required for a crater to register in an image\n",
    "    print \"number of %s files are: %d\"%(data_type,len(files))\n",
    "    for f in files:\n",
    "        flbase = os.path.basename(f)\n",
    "        img = get_im_cv2(f,img_width,img_height) / 255.\n",
    "        X.append(img)\n",
    "        y.append(np.array(Image.open('%smask.tiff'%f.split('.png')[0])))\n",
    "        X_id.append(int(flbase.split('lola_')[1].split('.png')[0]))\n",
    "        \n",
    "        #csv = pd.read_csv('%s.csv'%f.split('.png')[0])\n",
    "        #csv = csv[(csv['Diameter (pix)'] < maxpix) & (csv['Diameter (pix)'] > minpix)]\n",
    "        #target = mdm.make_mask(csv, img, binary=True, truncate=True, rings=True)\n",
    "        #target = mdm.make_circlering_mask(csv, img, binary=True, truncate=True)\n",
    "        #target = mdm.make_mask(csv, img, binary=True, rings=True, ringwidth=1, truncate=True)\n",
    "        #y.append(target)\n",
    "    return  X, y, X_id\n",
    "\n",
    "def read_and_normalize_data(path, img_width, img_height, data_flag):\n",
    "    if data_flag == 0:\n",
    "        data_type = 'train'\n",
    "    elif data_flag == 1:\n",
    "        data_type = 'test'\n",
    "    data, target, id_ = load_data(path, data_type, img_width, img_height)\n",
    "    data = np.array(data).astype('float32')     #convert to numpy, convert to float\n",
    "    data = data.reshape(len(data),img_width,img_height,1)\n",
    "    target = np.array(target).astype('float32')\n",
    "    print('%s shape:'%data_type, data.shape)\n",
    "    return data, target, id_\n",
    "\n",
    "#save target no border for Hough circles\n",
    "def save_image(data, cm, fn):\n",
    "    sizes = np.shape(data)\n",
    "    height = float(sizes[0])\n",
    "    width = float(sizes[1])\n",
    "    fig = plt.figure()\n",
    "    fig.set_size_inches(width/height, 1, forward=False)\n",
    "    ax = plt.Axes(fig, [0., 0., 1., 1.])\n",
    "    ax.set_axis_off()\n",
    "    fig.add_axes(ax)\n",
    "    ax.imshow(data, cmap=cm)\n",
    "    plt.savefig(fn, dpi = height) \n",
    "    \n",
    "def rescale_and_invcolor(data, inv_color, rescale):\n",
    "    for img in data:\n",
    "        if inv_color == 1:\n",
    "            img[img > 0.] = 1. - img[img > 0.]\n",
    "        if rescale == 1:\n",
    "            minn, maxx = np.min(img[img>0]), np.max(img[img>0])\n",
    "            low, hi = 0.1, 1                                                #low, hi rescaling values\n",
    "            img[img>0] = low + (img[img>0] - minn)*(hi - low)/(maxx - minn) #linear re-scaling\n",
    "    return data"
   ]
  },
  {
   "cell_type": "code",
   "execution_count": 3,
   "metadata": {},
   "outputs": [
    {
     "name": "stdout",
     "output_type": "stream",
     "text": [
      "number of train files are: 20\n",
      "('train shape:', (20, 256, 256, 1))\n",
      "number of test files are: 40\n",
      "('test shape:', (40, 256, 256, 1))\n"
     ]
    }
   ],
   "source": [
    "dim, inv_color, rescale = 256, 1, 1\n",
    "train_data, train_target, train_id = read_and_normalize_data('datasets/rings/Train_rings/', dim, dim, 0)\n",
    "test_data, test_target, test_id = read_and_normalize_data('datasets/rings/Test_rings/', dim, dim, 1)\n",
    "\n",
    "#invcolor and rescale\n",
    "if inv_color==1 or rescale==1:\n",
    "    train_data = rescale_and_invcolor(train_data, inv_color, rescale)\n",
    "    test_data = rescale_and_invcolor(test_data, inv_color, rescale)"
   ]
  },
  {
   "cell_type": "code",
   "execution_count": 4,
   "metadata": {},
   "outputs": [
    {
     "name": "stderr",
     "output_type": "stream",
     "text": [
      "Using TensorFlow backend.\n"
     ]
    }
   ],
   "source": [
    "from keras.models import load_model"
   ]
  },
  {
   "cell_type": "code",
   "execution_count": 5,
   "metadata": {
    "collapsed": true
   },
   "outputs": [],
   "source": [
    "filename = 'models/unet_s256_rings_predfull_FL5_glorot_normal.h5'\n",
    "model = load_model(filename)"
   ]
  },
  {
   "cell_type": "code",
   "execution_count": 15,
   "metadata": {
    "collapsed": true
   },
   "outputs": [],
   "source": [
    "n,off=5,0\n",
    "target = model.predict(test_data[off:(n+off)].astype('float32'))\n",
    "target_ids = test_id[off:(n+off)]"
   ]
  },
  {
   "cell_type": "code",
   "execution_count": 8,
   "metadata": {
    "collapsed": true
   },
   "outputs": [],
   "source": [
    "#convert pixel radius to absolute\n",
    "P = cPickle.load(open('datasets/rings/lolaout_test.p', 'r'))\n",
    "\n",
    "master_img_height_pix = 20000.0  #number of pixels for height\n",
    "master_img_height_lat = 180.0\n",
    "R_moon = 1737.0                  #radius of the moon (km)\n",
    "olen = 256.0                     #output length (pixels)"
   ]
  },
  {
   "cell_type": "code",
   "execution_count": 9,
   "metadata": {},
   "outputs": [
    {
     "data": {
      "image/png": "[encoded data removed]",
      "text/plain": [
       "<matplotlib.figure.Figure at 0x10fdce350>"
      ]
     },
     "metadata": {},
     "output_type": "display_data"
    }
   ],
   "source": [
    "#distribution of pix_to_km values.\n",
    "arr = []\n",
    "for i in range(len(P)):\n",
    "    P_ = P[i]\n",
    "    arr.append(P_['box'][2] - P_['box'][0])\n",
    "    \n",
    "plt.hist(arr,50);\n",
    "#P[0]['llbd']"
   ]
  },
  {
   "cell_type": "markdown",
   "metadata": {},
   "source": [
    "# there's a problem here where the radii are all exactly the same!! Bug somewhere?"
   ]
  },
  {
   "cell_type": "code",
   "execution_count": 84,
   "metadata": {},
   "outputs": [
    {
     "data": {
      "text/plain": [
       "<matplotlib.text.Text at 0x12f2ae950>"
      ]
     },
     "execution_count": 84,
     "metadata": {},
     "output_type": "execute_result"
    },
    {
     "data": {
      "image/png": "[encoded data removed]",
      "text/plain": [
       "<matplotlib.figure.Figure at 0x12f9e1a10>"
      ]
     },
     "metadata": {},
     "output_type": "display_data"
    }
   ],
   "source": [
    "#code for checking that a discovered crater is new, and hasn't been already discovered in another image.\n",
    "match_thresh2 = 50.\n",
    "dim = 256\n",
    "pred_crater_dist = np.empty([0,3])\n",
    "for i in range(len(target)):\n",
    "    coords = template_match_target(target[i])\n",
    "    P_ = P[target_ids[i]]\n",
    "    img_pix_height = float(P_['box'][2] - P_['box'][0])\n",
    "    pix_to_km = (master_img_height_lat/master_img_height_pix)*(np.pi/180.0)*(img_pix_height/float(dim))*R_moon\n",
    "    long_pix,lat_pix,radii_pix = coords.T\n",
    "    radii_km = radii_pix*pix_to_km\n",
    "    long_deg = P_['llbd'][0] + (P_['llbd'][1]-P_['llbd'][0])*(long_pix/float(dim))\n",
    "    lat_deg = P_['llbd'][3] - (P_['llbd'][3]-P_['llbd'][2])*(lat_pix/float(dim))\n",
    "\n",
    "    tuple_ = np.column_stack((long_deg,lat_deg,radii_km))\n",
    "    if len(pred_crater_dist) > 0: #only add unique (non-duplicate) values to the master pred_crater_dist\n",
    "        for j in range(len(tuple_)):\n",
    "            diff = (pred_crater_dist - tuple_[j])**2\n",
    "            diffsum = np.asarray([sum(x) for x in diff])\n",
    "            index = diffsum < match_thresh2\n",
    "            if len(np.where(index==True)[0]) == 0: #unique value\n",
    "                pred_crater_dist = np.vstack((pred_crater_dist,tuple_[j]))\n",
    "    else:\n",
    "        pred_crater_dist = np.concatenate((pred_crater_dist,tuple_))\n",
    "\n",
    "lat_, long_, rad = pred_crater_dist.T\n",
    "plt.hist(rad, 10);\n",
    "plt.title('radius distribution of labelled craters')\n",
    "plt.xlabel('crater radius (km)')"
   ]
  },
  {
   "cell_type": "code",
   "execution_count": 73,
   "metadata": {},
   "outputs": [
    {
     "data": {
      "text/plain": [
       "(array([ 75.,  37.,  24.,  11.,   2.,   5.,   2.,   1.,   4.,   2.]),\n",
       " array([  2.04635491,   3.54701519,   5.04767546,   6.54833573,\n",
       "          8.048996  ,   9.54965627,  11.05031654,  12.55097681,\n",
       "         14.05163708,  15.55229735,  17.05295762]),\n",
       " <a list of 10 Patch objects>)"
      ]
     },
     "execution_count": 73,
     "metadata": {},
     "output_type": "execute_result"
    },
    {
     "data": {
      "image/png": "[encoded data removed]",
      "text/plain": [
       "<matplotlib.figure.Figure at 0x130dc1a50>"
      ]
     },
     "metadata": {},
     "output_type": "display_data"
    }
   ],
   "source": [
    "#original\n",
    "pred_crater_dist_old = []\n",
    "for i in range(len(target)):\n",
    "    coords = template_match_target(target[i])\n",
    "    img_pix_height = float(P[target_ids[i]]['box'][2] - P[target_ids[i]]['box'][0])\n",
    "    pix_to_km = (master_img_height_lat/master_img_height_pix)*(np.pi/180.)*(img_pix_height/dim)*R_moon\n",
    "    if len(coords) >= 1:\n",
    "        _,_,radii = zip(*coords*pix_to_km)\n",
    "        pred_crater_dist_old += list(radii)\n",
    "        \n",
    "plt.hist(pred_crater_dist_old, 10)"
   ]
  },
  {
   "cell_type": "code",
   "execution_count": 65,
   "metadata": {},
   "outputs": [
    {
     "data": {
      "text/plain": [
       "[<matplotlib.lines.Line2D at 0x130232fd0>]"
      ]
     },
     "execution_count": 65,
     "metadata": {},
     "output_type": "execute_result"
    },
    {
     "data": {
      "image/png": "[encoded data removed]",
      "text/plain": [
       "<matplotlib.figure.Figure at 0x1330fc550>"
      ]
     },
     "metadata": {},
     "output_type": "display_data"
    }
   ],
   "source": [
    "plt.plot(lat_,long_,'.')"
   ]
  },
  {
   "cell_type": "code",
   "execution_count": 71,
   "metadata": {},
   "outputs": [
    {
     "data": {
      "text/plain": [
       "<matplotlib.text.Text at 0x13307fb50>"
      ]
     },
     "execution_count": 71,
     "metadata": {},
     "output_type": "execute_result"
    },
    {
     "data": {
      "image/png": "[encoded data removed]",
      "text/plain": [
       "<matplotlib.figure.Figure at 0x133e968d0>"
      ]
     },
     "metadata": {},
     "output_type": "display_data"
    }
   ],
   "source": [
    "plt.hist(master_radii_dist, 10)\n",
    "plt.title('radius distribution of labelled craters')\n",
    "plt.xlabel('crater radius (km)')"
   ]
  },
  {
   "cell_type": "code",
   "execution_count": null,
   "metadata": {
    "collapsed": true
   },
   "outputs": [],
   "source": []
  }
 ],
 "metadata": {
  "kernelspec": {
   "display_name": "Python 2",
   "language": "python",
   "name": "python2"
  },
  "language_info": {
   "codemirror_mode": {
    "name": "ipython",
    "version": 2
   },
   "file_extension": ".py",
   "mimetype": "text/x-python",
   "name": "python",
   "nbconvert_exporter": "python",
   "pygments_lexer": "ipython2",
   "version": "2.7.13"
  }
 },
 "nbformat": 4,
 "nbformat_minor": 2
}
