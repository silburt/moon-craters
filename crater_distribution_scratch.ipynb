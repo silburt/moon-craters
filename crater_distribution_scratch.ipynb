{
 "cells": [
  {
   "cell_type": "code",
   "execution_count": 1,
   "metadata": {
    "collapsed": true
   },
   "outputs": [],
   "source": [
    "import numpy as np\n",
    "import cPickle\n",
    "import cv2\n",
    "import glob\n",
    "import os\n",
    "import pandas as pd\n",
    "from PIL import Image\n",
    "import matplotlib.pyplot as plt\n",
    "%matplotlib inline\n",
    "\n",
    "from utils.template_match_target import *"
   ]
  },
  {
   "cell_type": "code",
   "execution_count": 2,
   "metadata": {
    "collapsed": true
   },
   "outputs": [],
   "source": [
    "def get_im_cv2(path, img_width, img_height):\n",
    "    img = cv2.imread(path, cv2.IMREAD_GRAYSCALE)\n",
    "    #resized = cv2.resize(img, (img_width, img_height))#, cv2.INTER_LINEAR)\n",
    "    return img\n",
    "\n",
    "def load_data(path, data_type, img_width, img_height):\n",
    "    X, X_id, y = [], [], []\n",
    "    minpix = 2                                  #minimum number of pixels for crater to count\n",
    "    files = glob.glob('%s*.png'%path)\n",
    "    minpix, maxpix = 2, 100                          #minimum pixels required for a crater to register in an image\n",
    "    print \"number of %s files are: %d\"%(data_type,len(files))\n",
    "    for f in files:\n",
    "        flbase = os.path.basename(f)\n",
    "        img = get_im_cv2(f,img_width,img_height) / 255.\n",
    "        X.append(img)\n",
    "        y.append(np.array(Image.open('%smask.tiff'%f.split('.png')[0])))\n",
    "        X_id.append(int(flbase.split('lola_')[1].split('.png')[0]))\n",
    "        \n",
    "        #csv = pd.read_csv('%s.csv'%f.split('.png')[0])\n",
    "        #csv = csv[(csv['Diameter (pix)'] < maxpix) & (csv['Diameter (pix)'] > minpix)]\n",
    "        #target = mdm.make_mask(csv, img, binary=True, truncate=True, rings=True)\n",
    "        #target = mdm.make_circlering_mask(csv, img, binary=True, truncate=True)\n",
    "        #target = mdm.make_mask(csv, img, binary=True, rings=True, ringwidth=1, truncate=True)\n",
    "        #y.append(target)\n",
    "    return  X, y, X_id\n",
    "\n",
    "def read_and_normalize_data(path, img_width, img_height, data_flag):\n",
    "    if data_flag == 0:\n",
    "        data_type = 'train'\n",
    "    elif data_flag == 1:\n",
    "        data_type = 'test'\n",
    "    data, target, id_ = load_data(path, data_type, img_width, img_height)\n",
    "    data = np.array(data).astype('float32')     #convert to numpy, convert to float\n",
    "    data = data.reshape(len(data),img_width,img_height,1)\n",
    "    target = np.array(target).astype('float32')\n",
    "    print('%s shape:'%data_type, data.shape)\n",
    "    return data, target, id_\n",
    "\n",
    "#save target no border for Hough circles\n",
    "def save_image(data, cm, fn):\n",
    "    sizes = np.shape(data)\n",
    "    height = float(sizes[0])\n",
    "    width = float(sizes[1])\n",
    "    fig = plt.figure()\n",
    "    fig.set_size_inches(width/height, 1, forward=False)\n",
    "    ax = plt.Axes(fig, [0., 0., 1., 1.])\n",
    "    ax.set_axis_off()\n",
    "    fig.add_axes(ax)\n",
    "    ax.imshow(data, cmap=cm)\n",
    "    plt.savefig(fn, dpi = height) \n",
    "    \n",
    "def rescale_and_invcolor(data, inv_color, rescale):\n",
    "    for img in data:\n",
    "        if inv_color == 1:\n",
    "            img[img > 0.] = 1. - img[img > 0.]\n",
    "        if rescale == 1:\n",
    "            minn, maxx = np.min(img[img>0]), np.max(img[img>0])\n",
    "            low, hi = 0.1, 1                                                #low, hi rescaling values\n",
    "            img[img>0] = low + (img[img>0] - minn)*(hi - low)/(maxx - minn) #linear re-scaling\n",
    "    return data"
   ]
  },
  {
   "cell_type": "code",
   "execution_count": 17,
   "metadata": {},
   "outputs": [
    {
     "name": "stdout",
     "output_type": "stream",
     "text": [
      "number of train files are: 20\n",
      "('train shape:', (20, 256, 256, 1))\n",
      "number of test files are: 240\n",
      "('test shape:', (240, 256, 256, 1))\n"
     ]
    }
   ],
   "source": [
    "dim, inv_color, rescale = 256, 1, 1\n",
    "train_data, train_target, train_id = read_and_normalize_data('datasets/rings/Train_rings/', dim, dim, 0)\n",
    "test_data, test_target, test_id = read_and_normalize_data('datasets/rings/Test_rings/', dim, dim, 1)\n",
    "\n",
    "#invcolor and rescale\n",
    "if inv_color==1 or rescale==1:\n",
    "    train_data = rescale_and_invcolor(train_data, inv_color, rescale)\n",
    "    test_data = rescale_and_invcolor(test_data, inv_color, rescale)"
   ]
  },
  {
   "cell_type": "code",
   "execution_count": 18,
   "metadata": {},
   "outputs": [
    {
     "name": "stderr",
     "output_type": "stream",
     "text": [
      "Using TensorFlow backend.\n"
     ]
    }
   ],
   "source": [
    "from keras.models import load_model"
   ]
  },
  {
   "cell_type": "code",
   "execution_count": 19,
   "metadata": {
    "collapsed": true
   },
   "outputs": [],
   "source": [
    "filename = 'models/unet_s256_rings_predfull_FL5_glorot_normal.h5'\n",
    "model = load_model(filename)"
   ]
  },
  {
   "cell_type": "code",
   "execution_count": 20,
   "metadata": {
    "collapsed": true
   },
   "outputs": [],
   "source": [
    "n,off=2,0\n",
    "target = model.predict(test_data[off:(n+off)].astype('float32'))\n",
    "target_ids = test_id[off:(n+off)]"
   ]
  },
  {
   "cell_type": "code",
   "execution_count": 10,
   "metadata": {},
   "outputs": [
    {
     "data": {
      "image/png": "[encoded data removed]",
      "text/plain": [
       "<matplotlib.figure.Figure at 0x11435eb50>"
      ]
     },
     "metadata": {},
     "output_type": "display_data"
    }
   ],
   "source": [
    "#convert pixel radius to absolute\n",
    "P = cPickle.load(open('datasets/rings/Test_rings/lolaout_test.p', 'r'))\n",
    "#P = cPickle.load(open('datasets/ilen_1500_to_2500/ilen_1500/outp_p0.p', 'r'))\n",
    "\n",
    "#distribution of pix_to_km values.\n",
    "arr = []\n",
    "for i in range(len(P)):\n",
    "    P_ = P[i]\n",
    "    arr.append(P_['box'][2] - P_['box'][0])\n",
    "    \n",
    "plt.hist(arr,50);"
   ]
  },
  {
   "cell_type": "markdown",
   "metadata": {},
   "source": [
    "# there's a problem here where the radii are all exactly the same!! Bug somewhere?"
   ]
  },
  {
   "cell_type": "code",
   "execution_count": 84,
   "metadata": {},
   "outputs": [
    {
     "data": {
      "text/plain": [
       "<matplotlib.text.Text at 0x12f2ae950>"
      ]
     },
     "execution_count": 84,
     "metadata": {},
     "output_type": "execute_result"
    },
    {
     "data": {
      "image/png": "[encoded data removed]",
      "text/plain": [
       "<matplotlib.figure.Figure at 0x12f9e1a10>"
      ]
     },
     "metadata": {},
     "output_type": "display_data"
    }
   ],
   "source": [
    "#code for checking that a discovered crater is new, and hasn't been already discovered in another image.\n",
    "master_img_height_pix = 23040.0  #number of pixels for height\n",
    "master_img_height_lat = 180.0\n",
    "R_moon = 1737.4                  #radius of the moon (km)\n",
    "olen = 256.0                     #output length (pixels)\n",
    "\n",
    "match_thresh2 = 50.  #this may be too strong?\n",
    "dim = 256\n",
    "pred_crater_dist = np.empty([0,3])\n",
    "for i in range(len(target)):\n",
    "    coords = template_match_target(target[i])\n",
    "    P_ = P[target_ids[i]]\n",
    "    img_pix_height = float(P_['box'][2] - P_['box'][0])\n",
    "    pix_to_km = (master_img_height_lat/master_img_height_pix)*(np.pi/180.0)*(img_pix_height/olen)*r_moon\n",
    "    long_pix,lat_pix,radii_pix = coords.T\n",
    "    radii_km = radii_pix*pix_to_km\n",
    "    long_deg = P_['llbd'][0] + (P_['llbd'][1]-P_['llbd'][0])*(long_pix/float(dim))\n",
    "    lat_deg = P_['llbd'][3] - (P_['llbd'][3]-P_['llbd'][2])*(lat_pix/float(dim))\n",
    "    tuple_ = np.column_stack((long_deg,lat_deg,radii_km))\n",
    "    \n",
    "    #only add unique (non-duplicate) values to the master pred_crater_dist\n",
    "    if len(pred_crater_dist) > 0: \n",
    "        for j in range(len(tuple_)):\n",
    "            diff = (pred_crater_dist - tuple_[j])**2\n",
    "            diffsum = np.asarray([sum(x) for x in diff])\n",
    "            index = diffsum < match_thresh2\n",
    "            if len(np.where(index==True)[0]) == 0: #unique value\n",
    "                pred_crater_dist = np.vstack((pred_crater_dist,tuple_[j]))\n",
    "    else:\n",
    "        pred_crater_dist = np.concatenate((pred_crater_dist,tuple_))\n",
    "\n",
    "lat_, long_, rad = pred_crater_dist.T\n",
    "plt.hist(rad, 10);\n",
    "plt.title('radius distribution of labelled craters')\n",
    "plt.xlabel('crater radius (km)')"
   ]
  },
  {
   "cell_type": "code",
   "execution_count": 25,
   "metadata": {},
   "outputs": [
    {
     "name": "stdout",
     "output_type": "stream",
     "text": [
      "0\n",
      "1\n"
     ]
    }
   ],
   "source": [
    "#original\n",
    "pred_crater_dist_old = []\n",
    "for i in range(len(target)):\n",
    "    coords = template_match_target(target[i])\n",
    "    img_pix_height = float(P[target_ids[i]]['box'][2] - P[target_ids[i]]['box'][0])\n",
    "    pix_to_km = (master_img_height_lat/master_img_height_pix)*(np.pi/180.)*(img_pix_height/dim)*R_moon\n",
    "    if len(coords) >= 1:\n",
    "        _,_,radii = zip(*coords*pix_to_km)\n",
    "        pred_crater_dist_old += list(radii)\n",
    "        \n",
    "plt.hist(pred_crater_dist_old, 10)"
   ]
  },
  {
   "cell_type": "code",
   "execution_count": 65,
   "metadata": {},
   "outputs": [
    {
     "data": {
      "text/plain": [
       "[<matplotlib.lines.Line2D at 0x130232fd0>]"
      ]
     },
     "execution_count": 65,
     "metadata": {},
     "output_type": "execute_result"
    },
    {
     "data": {
      "image/png": "[encoded data removed]",
      "text/plain": [
       "<matplotlib.figure.Figure at 0x1330fc550>"
      ]
     },
     "metadata": {},
     "output_type": "display_data"
    }
   ],
   "source": [
    "plt.plot(lat_,long_,'.')"
   ]
  },
  {
   "cell_type": "code",
   "execution_count": 71,
   "metadata": {},
   "outputs": [
    {
     "data": {
      "text/plain": [
       "<matplotlib.text.Text at 0x13307fb50>"
      ]
     },
     "execution_count": 71,
     "metadata": {},
     "output_type": "execute_result"
    },
    {
     "data": {
      "image/png": "[encoded data removed]",
      "text/plain": [
       "<matplotlib.figure.Figure at 0x133e968d0>"
      ]
     },
     "metadata": {},
     "output_type": "display_data"
    }
   ],
   "source": [
    "plt.hist(master_radii_dist, 10)\n",
    "plt.title('radius distribution of labelled craters')\n",
    "plt.xlabel('crater radius (km)')"
   ]
  },
  {
   "cell_type": "markdown",
   "metadata": {
    "collapsed": true
   },
   "source": [
    "# Compare csv diameter (km) to diameter (pix)"
   ]
  },
  {
   "cell_type": "code",
   "execution_count": 10,
   "metadata": {
    "collapsed": true
   },
   "outputs": [],
   "source": [
    "P = cPickle.load(open('datasets/rings/Test_rings/lolaout_test.p', 'r'))\n",
    "csvs = glob.glob('datasets/rings/Test_rings/*.csv')"
   ]
  },
  {
   "cell_type": "code",
   "execution_count": 26,
   "metadata": {},
   "outputs": [
    {
     "data": {
      "image/png": "[encoded data removed]",
      "text/plain": [
       "<matplotlib.figure.Figure at 0x126297510>"
      ]
     },
     "metadata": {},
     "output_type": "display_data"
    }
   ],
   "source": [
    "master_img_height_pix = 23040.0  #number of pixels for height\n",
    "master_img_height_lat = 180.0\n",
    "R_moon = 1737.4                  #radius of the moon (km)\n",
    "olen = 256.0                     #output length (pixels)\n",
    "\n",
    "scale_csv_direct = []\n",
    "scale_pix_to_km = []\n",
    "for csv in csvs:\n",
    "    d = pd.read_csv(csv)\n",
    "    P_ = P[int(os.path.basename(csv).split('lola_')[1].split('.csv')[0])]\n",
    "    img_pix_height = float(P_['box'][2] - P_['box'][0])\n",
    "    pix_to_km = (master_img_height_lat/master_img_height_pix)*(np.pi/180.0)*(img_pix_height/olen)*R_moon\n",
    "    rad_pix = d['Diameter (pix)'].values/2.\n",
    "    rad_km = d['Diameter (km)'].values/2.\n",
    "    \n",
    "    ratio = rad_km/rad_pix\n",
    "    scale_csv_direct.append(ratio[0])\n",
    "    scale_pix_to_km.append(pix_to_km)\n",
    "    if np.abs(np.max(ratio) - np.min(ratio)) > 1e-5:\n",
    "        print \"discrepancy in %s\"%csv\n",
    "    \n",
    "# plt.hist(np.round(rad_pix)*pix_to_km, label='converted')\n",
    "# plt.hist(rad_km, alpha=0.6, label='true')\n",
    "# plt.legend()\n",
    "#plt.hist(rad_km/rad_pix);\n",
    "plt.plot(scale_csv_direct, scale_pix_to_km, '.')\n",
    "plt.plot([0,max(scale_pix_to_km)],[0,max(scale_pix_to_km)], '--')\n",
    "plt.ylabel('scale: pix_to_km')\n",
    "plt.xlabel('scale: rad_km/rad_pix')\n",
    "plt.savefig('output_dir/images/scale_ratio_test.png')"
   ]
  },
  {
   "cell_type": "code",
   "execution_count": 39,
   "metadata": {},
   "outputs": [
    {
     "data": {
      "text/plain": [
       "{'box': [7644, 11968, 8619, 12943],\n",
       " 'llbd': array([ 119.71875  ,  127.3359375,  -11.1171875,   -3.5      ])}"
      ]
     },
     "execution_count": 39,
     "metadata": {},
     "output_type": "execute_result"
    }
   ],
   "source": [
    "P_"
   ]
  },
  {
   "cell_type": "markdown",
   "metadata": {
    "collapsed": true
   },
   "source": [
    "## Get unique_thresh2 estimate for crater_distribution_extract_new.py\n",
    "I.e. an order of magnitude threshold should be such that the difference in $$(long_a - long_b)^2 + (lat_a - lat_b)^2 + (rad_a - rad_b)^2$$ for all entries in a csv file lead to unique values."
   ]
  },
  {
   "cell_type": "code",
   "execution_count": 6,
   "metadata": {
    "collapsed": true
   },
   "outputs": [],
   "source": [
    "import glob\n",
    "files = glob.glob('datasets/rings/Test_rings/*.csv')"
   ]
  },
  {
   "cell_type": "code",
   "execution_count": 3,
   "metadata": {},
   "outputs": [
    {
     "data": {
      "text/html": [
       "<div>\n",
       "<table border=\"1\" class=\"dataframe\">\n",
       "  <thead>\n",
       "    <tr style=\"text-align: right;\">\n",
       "      <th></th>\n",
       "      <th>Diameter (km)</th>\n",
       "      <th>Lat</th>\n",
       "      <th>Long</th>\n",
       "      <th>x</th>\n",
       "      <th>y</th>\n",
       "      <th>Diameter (pix)</th>\n",
       "    </tr>\n",
       "  </thead>\n",
       "  <tbody>\n",
       "    <tr>\n",
       "      <th>0</th>\n",
       "      <td>12.299414</td>\n",
       "      <td>-10.737407</td>\n",
       "      <td>139.943674</td>\n",
       "      <td>151.353241</td>\n",
       "      <td>250.939001</td>\n",
       "      <td>15.300968</td>\n",
       "    </tr>\n",
       "    <tr>\n",
       "      <th>1</th>\n",
       "      <td>6.259036</td>\n",
       "      <td>-10.474197</td>\n",
       "      <td>138.968248</td>\n",
       "      <td>115.151231</td>\n",
       "      <td>241.006140</td>\n",
       "      <td>7.786494</td>\n",
       "    </tr>\n",
       "    <tr>\n",
       "      <th>2</th>\n",
       "      <td>8.107086</td>\n",
       "      <td>-10.415080</td>\n",
       "      <td>142.350568</td>\n",
       "      <td>240.724021</td>\n",
       "      <td>239.164887</td>\n",
       "      <td>10.085542</td>\n",
       "    </tr>\n",
       "    <tr>\n",
       "      <th>3</th>\n",
       "      <td>45.157000</td>\n",
       "      <td>-10.398437</td>\n",
       "      <td>138.195312</td>\n",
       "      <td>86.440179</td>\n",
       "      <td>238.197206</td>\n",
       "      <td>56.177133</td>\n",
       "    </tr>\n",
       "    <tr>\n",
       "      <th>4</th>\n",
       "      <td>14.313507</td>\n",
       "      <td>-10.325529</td>\n",
       "      <td>142.038801</td>\n",
       "      <td>229.187984</td>\n",
       "      <td>235.713168</td>\n",
       "      <td>17.806581</td>\n",
       "    </tr>\n",
       "  </tbody>\n",
       "</table>\n",
       "</div>"
      ],
      "text/plain": [
       "   Diameter (km)        Lat        Long           x           y  \\\n",
       "0      12.299414 -10.737407  139.943674  151.353241  250.939001   \n",
       "1       6.259036 -10.474197  138.968248  115.151231  241.006140   \n",
       "2       8.107086 -10.415080  142.350568  240.724021  239.164887   \n",
       "3      45.157000 -10.398437  138.195312   86.440179  238.197206   \n",
       "4      14.313507 -10.325529  142.038801  229.187984  235.713168   \n",
       "\n",
       "   Diameter (pix)  \n",
       "0       15.300968  \n",
       "1        7.786494  \n",
       "2       10.085542  \n",
       "3       56.177133  \n",
       "4       17.806581  "
      ]
     },
     "execution_count": 3,
     "metadata": {},
     "output_type": "execute_result"
    }
   ],
   "source": [
    "csv.head()"
   ]
  },
  {
   "cell_type": "code",
   "execution_count": 73,
   "metadata": {},
   "outputs": [
    {
     "name": "stdout",
     "output_type": "stream",
     "text": [
      "0.157607011172\n"
     ]
    }
   ],
   "source": [
    "#since diameter is much larger range than long lat, need to standardize/normalize them. \n",
    "min_thresh2 = 50\n",
    "std_lat, std_long, std_rad = [], [], []\n",
    "range_lat, range_long, range_rad = [], [], []\n",
    "for f in files[0:10]:\n",
    "    csv = pd.read_csv(f)\n",
    "    GT_radii = csv['Diameter (km)'].values/2\n",
    "    GT_lat = csv['Lat'].values\n",
    "    GT_long = csv['Long'].values\n",
    "    tuple_ = np.column_stack((GT_long,GT_lat,GT_radii))\n",
    "    \n",
    "    std_lat.append(np.std(GT_lat)); std_long.append(np.std(GT_long)); std_rad.append(np.std(GT_radii));\n",
    "    range_lat.append(np.max(GT_lat) - np.min(GT_lat)); \n",
    "    range_long.append(np.max(GT_long) - np.min(GT_long)); \n",
    "    range_rad.append(np.max(GT_radii) - np.min(GT_radii));\n",
    "    \n",
    "    for j in range(len(tuple_)):\n",
    "        #diff = (tuple_ - tuple_[j])**2\n",
    "        #diffsum = np.asarray([sum(x) for x in diff])\n",
    "        long_, lat_, rad_ = tuple_.T\n",
    "        diffsum = 25*(long_ - GT_long[j])**2 + 25*(lat_ - GT_lat[j])**2 + (rad_ - GT_radii[j])**2\n",
    "        diffsum = np.delete(diffsum, j)\n",
    "        min_thresh2 = np.min((min_thresh2,min(diffsum)))\n",
    "\n",
    "print min_thresh2"
   ]
  },
  {
   "cell_type": "code",
   "execution_count": 64,
   "metadata": {},
   "outputs": [
    {
     "data": {
      "text/plain": [
       "<matplotlib.legend.Legend at 0x10e67dd10>"
      ]
     },
     "execution_count": 64,
     "metadata": {},
     "output_type": "execute_result"
    },
    {
     "data": {
      "image/png": "[encoded data removed]",
      "text/plain": [
       "<matplotlib.figure.Figure at 0x10e86e4d0>"
      ]
     },
     "metadata": {},
     "output_type": "display_data"
    }
   ],
   "source": [
    "#radii has about ~5x higher standard deviation (25x more variance) in a given csv file.\n",
    "#BUT, overall, long and lat have higher ranges/standard deviations... \n",
    "plt.plot(std_lat, range_lat, '.',label='lat')\n",
    "plt.plot(std_long, range_long, '.',label='long')\n",
    "plt.plot(std_rad, range_rad, '.',label='radii')\n",
    "plt.yscale('log')\n",
    "plt.xscale('log')\n",
    "plt.ylabel('max - min')\n",
    "plt.xlabel('std')\n",
    "plt.title('stats of each csv file')\n",
    "plt.legend()"
   ]
  },
  {
   "cell_type": "code",
   "execution_count": 3,
   "metadata": {},
   "outputs": [
    {
     "data": {
      "text/html": [
       "<div>\n",
       "<table border=\"1\" class=\"dataframe\">\n",
       "  <thead>\n",
       "    <tr style=\"text-align: right;\">\n",
       "      <th></th>\n",
       "      <th>Unnamed: 0</th>\n",
       "      <th>Unnamed: 0.1</th>\n",
       "      <th>Diameter (km)</th>\n",
       "      <th>Long</th>\n",
       "      <th>Lat</th>\n",
       "      <th>tag</th>\n",
       "    </tr>\n",
       "  </thead>\n",
       "  <tbody>\n",
       "    <tr>\n",
       "      <th>0</th>\n",
       "      <td>0</td>\n",
       "      <td>0</td>\n",
       "      <td>7.480187</td>\n",
       "      <td>103.648808</td>\n",
       "      <td>-58.915306</td>\n",
       "      <td>standard</td>\n",
       "    </tr>\n",
       "    <tr>\n",
       "      <th>1</th>\n",
       "      <td>1</td>\n",
       "      <td>1</td>\n",
       "      <td>6.787110</td>\n",
       "      <td>109.085532</td>\n",
       "      <td>-58.961397</td>\n",
       "      <td>standard</td>\n",
       "    </tr>\n",
       "    <tr>\n",
       "      <th>2</th>\n",
       "      <td>2</td>\n",
       "      <td>2</td>\n",
       "      <td>7.143313</td>\n",
       "      <td>113.439137</td>\n",
       "      <td>-59.791020</td>\n",
       "      <td>standard</td>\n",
       "    </tr>\n",
       "    <tr>\n",
       "      <th>3</th>\n",
       "      <td>3</td>\n",
       "      <td>3</td>\n",
       "      <td>13.778037</td>\n",
       "      <td>119.801506</td>\n",
       "      <td>-58.949874</td>\n",
       "      <td>standard</td>\n",
       "    </tr>\n",
       "    <tr>\n",
       "      <th>4</th>\n",
       "      <td>4</td>\n",
       "      <td>4</td>\n",
       "      <td>7.744244</td>\n",
       "      <td>120.419883</td>\n",
       "      <td>-58.803922</td>\n",
       "      <td>standard</td>\n",
       "    </tr>\n",
       "  </tbody>\n",
       "</table>\n",
       "</div>"
      ],
      "text/plain": [
       "   Unnamed: 0  Unnamed: 0.1  Diameter (km)        Long        Lat       tag\n",
       "0           0             0       7.480187  103.648808 -58.915306  standard\n",
       "1           1             1       6.787110  109.085532 -58.961397  standard\n",
       "2           2             2       7.143313  113.439137 -59.791020  standard\n",
       "3           3             3      13.778037  119.801506 -58.949874  standard\n",
       "4           4             4       7.744244  120.419883 -58.803922  standard"
      ]
     },
     "execution_count": 3,
     "metadata": {},
     "output_type": "execute_result"
    }
   ],
   "source": [
    "alanall = pd.read_csv('utils/alanalldata.csv')\n",
    "alanall.head()"
   ]
  },
  {
   "cell_type": "code",
   "execution_count": 4,
   "metadata": {
    "collapsed": true
   },
   "outputs": [],
   "source": [
    "std_r, std_lat, std_long = np.std(alanall['Diameter (km)']), np.std(alanall['Lat']), np.std(alanall['Long'])"
   ]
  },
  {
   "cell_type": "code",
   "execution_count": 37,
   "metadata": {},
   "outputs": [
    {
     "data": {
      "text/plain": [
       "<matplotlib.legend.Legend at 0x112f1e390>"
      ]
     },
     "execution_count": 37,
     "metadata": {},
     "output_type": "execute_result"
    },
    {
     "data": {
      "image/png": "[encoded data removed]",
      "text/plain": [
       "<matplotlib.figure.Figure at 0x1123d2cd0>"
      ]
     },
     "metadata": {},
     "output_type": "display_data"
    }
   ],
   "source": [
    "bins = 50\n",
    "alanall = pd.read_csv('utils/alanalldata.csv')\n",
    "truth = alanall['Diameter (km)']/2.\n",
    "plt.hist(truth, bins, label='Truth');\n",
    "\n",
    "data = np.load('datasets/rings/Test_rings/unique_GTcraters_ut20.005.npy')\n",
    "long_,lat_,rad_ = data.T\n",
    "rad_ = rad_[rad_ <= np.max(truth)]\n",
    "plt.hist(rad_, bins, alpha=0.5, label='test');\n",
    "plt.legend()"
   ]
  },
  {
   "cell_type": "markdown",
   "metadata": {},
   "source": [
    "## Testing speed of algorithm - 2 seconds at slowest"
   ]
  },
  {
   "cell_type": "code",
   "execution_count": 50,
   "metadata": {
    "collapsed": true
   },
   "outputs": [],
   "source": [
    "dir = 'datasets/rings/Test_rings'\n",
    "\n",
    "truth = np.load('%s/test_GTcraterdist_full.npy'%dir)\n",
    "data = np.load('%s/test_predcraterdist_debug_n10000.npy'%dir)\n",
    "#data = np.load('%s/test_predcraterdist_n30016.npy'%dir)\n",
    "\n",
    "unique_thresh2=1e-6"
   ]
  },
  {
   "cell_type": "code",
   "execution_count": 48,
   "metadata": {},
   "outputs": [
    {
     "name": "stdout",
     "output_type": "stream",
     "text": [
      "CPU times: user 904 ms, sys: 58.9 ms, total: 963 ms\n",
      "Wall time: 1.01 s\n"
     ]
    }
   ],
   "source": [
    "%%time\n",
    "i=0\n",
    "data_cut = data[i:]                                         #compare only with higher indices, include entry i from data\n",
    "\n",
    "diff = (data_cut - data_cut[0])**2\n",
    "diffsum = np.asarray([sum(x) for x in diff])                #sum((lat-lat_i)^2 + (long-long_i)^2 + (rad-rad_i)^2)\n",
    "index = diffsum < unique_thresh2\n",
    "dup = np.where(index == True)[0]                            #get duplicates\n",
    "if len(dup) > 1:                                            #will be at least 1 match for 0th slot\n",
    "    data[i] = np.mean(data_cut[dup],axis=0)                 #take average of duplicate coords, store in *original* data array\n",
    "    keep = np.where(index==False)[0]                        #indices of non-duplicate entries\n",
    "    data = np.concatenate((data[0:i+1],data_cut[keep]))     #concatenate and remove duplicates"
   ]
  },
  {
   "cell_type": "markdown",
   "metadata": {
    "collapsed": true
   },
   "source": [
    "Figuring out why the god damned algorithm takes so long"
   ]
  },
  {
   "cell_type": "code",
   "execution_count": 9,
   "metadata": {},
   "outputs": [],
   "source": [
    "dir = 'datasets/rings/Test_rings'\n",
    "pred = np.load('%s/test_modelpreds_n1000_new.npy'%dir)\n",
    "id = np.load('%s/test_id.npy'%dir)\n",
    "P = cPickle.load(open('%s/lolaout_test.p'%dir, 'r'))"
   ]
  },
  {
   "cell_type": "code",
   "execution_count": 6,
   "metadata": {},
   "outputs": [
    {
     "data": {
      "text/plain": [
       "(<matplotlib.image.AxesImage at 0x111b5af10>, 1000)"
      ]
     },
     "execution_count": 6,
     "metadata": {},
     "output_type": "execute_result"
    },
    {
     "data": {
      "image/png": "[encoded data removed]",
      "text/plain": [
       "<matplotlib.figure.Figure at 0x111435910>"
      ]
     },
     "metadata": {},
     "output_type": "display_data"
    }
   ],
   "source": [
    "plt.imshow(pred[0]), len(pred)"
   ]
  },
  {
   "cell_type": "code",
   "execution_count": null,
   "metadata": {
    "scrolled": true
   },
   "outputs": [
    {
     "name": "stdout",
     "output_type": "stream",
     "text": [
      "0 0\n",
      "1 19\n",
      "2 34\n",
      "3 51\n",
      "4 58\n",
      "5 79\n",
      "6 82\n",
      "7 104\n",
      "8 122\n",
      "9 134\n",
      "10 172\n",
      "11 194\n",
      "12 218\n",
      "13 244\n",
      "14 247\n",
      "15 281\n",
      "16 302\n",
      "17 340\n",
      "18 369\n",
      "19 383\n",
      "20 395\n",
      "21 433\n",
      "22 462\n",
      "23 480\n",
      "24 522\n",
      "25 545\n",
      "26 549\n",
      "27 579\n",
      "28 591\n",
      "29 616\n",
      "30 637\n",
      "31 642\n",
      "32 681\n",
      "33 705\n",
      "34 723\n",
      "35 747\n",
      "36 758\n",
      "37 779\n",
      "38 805\n",
      "39 818\n",
      "40 863\n",
      "41 880\n",
      "42 892\n",
      "43 900\n",
      "44 912\n",
      "45 929\n",
      "46 942\n",
      "47 961\n",
      "48 972\n",
      "49 999\n",
      "50 1015\n",
      "51 1034\n",
      "52 1036\n",
      "53 1050\n",
      "54 1077\n",
      "55 1099\n",
      "56 1135\n",
      "57 1155\n",
      "58 1174\n",
      "59 1185\n",
      "60 1207\n",
      "61 1247\n",
      "62 1253\n",
      "63 1293\n",
      "64 1304\n",
      "65 1308\n",
      "66 1332\n",
      "67 1359\n",
      "68 1367\n",
      "69 1369\n",
      "70 1374\n",
      "71 1377\n",
      "72 1394\n",
      "73 1421\n",
      "74 1449\n",
      "75 1453\n",
      "76 1479\n",
      "77 1504\n",
      "78 1519\n",
      "79 1528\n",
      "80 1534\n",
      "81 1538\n",
      "82 1556\n",
      "83 1560\n",
      "84 1568\n",
      "85 1600\n",
      "86 1625\n",
      "87 1630\n",
      "88 1656\n",
      "89 1659\n",
      "90 1677\n",
      "91 1711\n",
      "92 1739\n",
      "93 1777\n",
      "94 1798\n",
      "95 1821\n",
      "96 1843\n",
      "97 1869\n",
      "98 1881\n",
      "99 1938\n",
      "100 1965\n",
      "101 1986\n",
      "102 1990\n",
      "103 2007\n",
      "104 2018\n",
      "105 2034\n",
      "106 2040\n",
      "107 2042\n",
      "108 2044\n",
      "109 2046\n",
      "110 2077\n",
      "111 2098\n",
      "112 2116\n",
      "113 2121\n",
      "114 2141\n",
      "115 2158\n",
      "116 2170\n",
      "117 2194\n",
      "118 2218\n",
      "119 2229\n",
      "120 2247\n",
      "121 2256\n",
      "122 2264\n",
      "123 2289\n",
      "124 2310\n",
      "125 2340\n",
      "126 2360\n",
      "127 2386\n",
      "128 2399\n",
      "129 2407\n",
      "130 2421\n",
      "131 2447\n",
      "132 2459\n",
      "133 2470\n",
      "134 2482\n",
      "135 2490\n",
      "136 2500\n",
      "137 2522\n",
      "138 2526\n",
      "139 2561\n",
      "140 2576\n",
      "141 2592\n",
      "142 2606\n",
      "143 2615\n",
      "144 2652\n",
      "145 2663\n",
      "146 2675\n",
      "147 2707\n",
      "148 2721\n",
      "149 2728\n",
      "150 2736\n",
      "151 2751\n",
      "152 2754\n",
      "153 2758\n",
      "154 2764\n",
      "155 2785\n",
      "156 2789\n",
      "157 2797\n",
      "158 2817\n",
      "159 2841\n",
      "160 2862\n",
      "161 2878\n",
      "162 2886\n",
      "163 2904\n",
      "164 2912\n",
      "165 2918\n",
      "166 2928\n",
      "167 2954\n",
      "168 2988\n",
      "169 2992\n",
      "170 3004\n",
      "171 3007\n",
      "172 3014\n",
      "173 3035\n",
      "174 3046\n",
      "175 3049\n",
      "176 3060\n",
      "177 3080\n",
      "178 3105\n",
      "179 3112\n",
      "180 3129\n",
      "181 3145\n",
      "182 3162\n",
      "183 3164\n",
      "184 3185\n",
      "185 3209\n",
      "186 3214\n",
      "187 3231\n",
      "188 3239\n",
      "189 3269\n",
      "190 3285\n",
      "191 3291\n",
      "192 3296\n",
      "193 3309\n",
      "194 3318\n",
      "195 3336\n",
      "196 3370\n",
      "197 3383\n",
      "198 3391\n",
      "199 3395\n",
      "200 3400\n",
      "201 3404\n",
      "202 3421\n",
      "203 3424\n",
      "204 3438\n",
      "205 3449\n",
      "206 3478\n",
      "207 3489\n",
      "208 3516\n",
      "209 3531\n",
      "210 3547\n",
      "211 3570\n",
      "212 3603\n",
      "213 3615\n",
      "214 3618\n",
      "215 3618\n",
      "216 3621\n",
      "217 3625\n",
      "218 3636\n",
      "219 3643\n",
      "220 3665\n",
      "221 3687\n",
      "222 3697\n",
      "223 3709\n",
      "224 3730\n",
      "225 3737\n",
      "226 3742\n",
      "227 3746\n",
      "228 3752\n",
      "229 3779\n",
      "230 3814\n",
      "231 3817\n",
      "232 3828\n",
      "233 3837\n",
      "234 3855\n",
      "235 3868\n",
      "236 3896\n",
      "237 3899\n",
      "238 3906\n",
      "239 3909\n",
      "240 3922\n",
      "241 3922\n",
      "242 3935\n",
      "243 3942\n",
      "244 3962\n",
      "245 3979\n",
      "246 3990\n",
      "247 4008\n",
      "248 4013\n",
      "249 4027\n",
      "250 4031\n",
      "251 4035\n",
      "252 4043\n",
      "253 4066\n",
      "254 4084\n",
      "255 4091\n",
      "256 4095\n",
      "257 4099\n",
      "258 4116\n",
      "259 4157\n",
      "260 4178\n",
      "261 4202\n",
      "262 4214\n",
      "263 4228\n",
      "264 4235\n",
      "265 4241\n",
      "266 4243\n",
      "267 4266\n",
      "268 4269\n",
      "269 4273\n",
      "270 4274\n",
      "271 4283\n",
      "272 4292\n",
      "273 4298\n",
      "274 4318\n",
      "275 4338\n",
      "276 4344\n",
      "277 4356\n",
      "278 4367\n",
      "279 4372\n",
      "280 4385\n",
      "281 4387\n",
      "282 4402\n",
      "283 4413\n",
      "284 4422\n",
      "285 4439\n",
      "286 4442\n",
      "287 4449\n",
      "288 4453\n",
      "289 4495\n",
      "290 4502\n"
     ]
    }
   ],
   "source": [
    "master_img_height_pix = 23040.  #number of pixels for height\n",
    "master_img_height_lat = 180.    #degrees used for latitude\n",
    "r_moon = 1737.4                 #radius of the moon (km)\n",
    "dim = 256                       #image dimension (pixels, assume dim=height=width)\n",
    "unique_thresh2 = 1\n",
    "\n",
    "pred_crater_dist = np.empty([0,3])\n",
    "for i in range(len(pred)):\n",
    "    print i, len(pred_crater_dist)\n",
    "    coords = template_match_target(pred[i])\n",
    "    if len(coords) > 0:\n",
    "        P_ = P[id[i]]\n",
    "        img_pix_height = float(P_['box'][2] - P_['box'][0])\n",
    "        pix_to_km = (master_img_height_lat/master_img_height_pix)*(np.pi/180.0)*(img_pix_height/float(dim))*r_moon\n",
    "        long_pix,lat_pix,radii_pix = coords.T\n",
    "        radii_km = radii_pix*pix_to_km\n",
    "        long_deg = P_['llbd'][0] + (P_['llbd'][1]-P_['llbd'][0])*(long_pix/float(dim))\n",
    "        lat_deg = P_['llbd'][3] - (P_['llbd'][3]-P_['llbd'][2])*(lat_pix/float(dim))\n",
    "        tuple_ = np.column_stack((long_deg,lat_deg,radii_km))\n",
    "\n",
    "        #only add unique (non-duplicate) values to the master pred_crater_dist\n",
    "        if len(pred_crater_dist) > 0:\n",
    "            for j in range(len(tuple_)):\n",
    "                diff = (pred_crater_dist - tuple_[j])**2\n",
    "                diffsum = np.asarray([sum(x) for x in diff])\n",
    "                index = diffsum < unique_thresh2\n",
    "                if len(np.where(index==True)[0]) == 0: #unique value\n",
    "                    pred_crater_dist = np.vstack((pred_crater_dist,tuple_[j]))\n",
    "        else:\n",
    "            pred_crater_dist = np.concatenate((pred_crater_dist,tuple_))\n",
    "            \n",
    "np.save('%s/test_modeldist_n1000_new.npy'%dir,pred_crater_dist)"
   ]
  },
  {
   "cell_type": "code",
   "execution_count": null,
   "metadata": {
    "collapsed": true
   },
   "outputs": [],
   "source": []
  }
 ],
 "metadata": {
  "kernelspec": {
   "display_name": "Python 2",
   "language": "python",
   "name": "python2"
  },
  "language_info": {
   "codemirror_mode": {
    "name": "ipython",
    "version": 2
   },
   "file_extension": ".py",
   "mimetype": "text/x-python",
   "name": "python",
   "nbconvert_exporter": "python",
   "pygments_lexer": "ipython2",
   "version": "2.7.13"
  }
 },
 "nbformat": 4,
 "nbformat_minor": 2
}
