{
 "cells": [
  {
   "cell_type": "code",
   "execution_count": 1,
   "metadata": {
    "collapsed": true
   },
   "outputs": [],
   "source": [
    "import numpy as np\n",
    "import cPickle\n",
    "import cv2\n",
    "import glob\n",
    "import os\n",
    "import pandas as pd\n",
    "from PIL import Image\n",
    "import matplotlib.pyplot as plt\n",
    "%matplotlib inline\n",
    "\n",
    "from utils.template_match_target import *"
   ]
  },
  {
   "cell_type": "code",
   "execution_count": 2,
   "metadata": {
    "collapsed": true
   },
   "outputs": [],
   "source": [
    "def get_im_cv2(path, img_width, img_height):\n",
    "    img = cv2.imread(path, cv2.IMREAD_GRAYSCALE)\n",
    "    #resized = cv2.resize(img, (img_width, img_height))#, cv2.INTER_LINEAR)\n",
    "    return img\n",
    "\n",
    "def load_data(path, data_type, img_width, img_height):\n",
    "    X, X_id, y = [], [], []\n",
    "    minpix = 2                                  #minimum number of pixels for crater to count\n",
    "    files = glob.glob('%s*.png'%path)\n",
    "    minpix, maxpix = 2, 100                          #minimum pixels required for a crater to register in an image\n",
    "    print \"number of %s files are: %d\"%(data_type,len(files))\n",
    "    for f in files:\n",
    "        flbase = os.path.basename(f)\n",
    "        img = get_im_cv2(f,img_width,img_height) / 255.\n",
    "        X.append(img)\n",
    "        y.append(np.array(Image.open('%smask.tiff'%f.split('.png')[0])))\n",
    "        X_id.append(int(flbase.split('lola_')[1].split('.png')[0]))\n",
    "        \n",
    "        #csv = pd.read_csv('%s.csv'%f.split('.png')[0])\n",
    "        #csv = csv[(csv['Diameter (pix)'] < maxpix) & (csv['Diameter (pix)'] > minpix)]\n",
    "        #target = mdm.make_mask(csv, img, binary=True, truncate=True, rings=True)\n",
    "        #target = mdm.make_circlering_mask(csv, img, binary=True, truncate=True)\n",
    "        #target = mdm.make_mask(csv, img, binary=True, rings=True, ringwidth=1, truncate=True)\n",
    "        #y.append(target)\n",
    "    return  X, y, X_id\n",
    "\n",
    "def read_and_normalize_data(path, img_width, img_height, data_flag):\n",
    "    if data_flag == 0:\n",
    "        data_type = 'train'\n",
    "    elif data_flag == 1:\n",
    "        data_type = 'test'\n",
    "    data, target, id_ = load_data(path, data_type, img_width, img_height)\n",
    "    data = np.array(data).astype('float32')     #convert to numpy, convert to float\n",
    "    data = data.reshape(len(data),img_width,img_height,1)\n",
    "    target = np.array(target).astype('float32')\n",
    "    print('%s shape:'%data_type, data.shape)\n",
    "    return data, target, id_\n",
    "\n",
    "#save target no border for Hough circles\n",
    "def save_image(data, cm, fn):\n",
    "    sizes = np.shape(data)\n",
    "    height = float(sizes[0])\n",
    "    width = float(sizes[1])\n",
    "    fig = plt.figure()\n",
    "    fig.set_size_inches(width/height, 1, forward=False)\n",
    "    ax = plt.Axes(fig, [0., 0., 1., 1.])\n",
    "    ax.set_axis_off()\n",
    "    fig.add_axes(ax)\n",
    "    ax.imshow(data, cmap=cm)\n",
    "    plt.savefig(fn, dpi = height) \n",
    "    \n",
    "def rescale_and_invcolor(data, inv_color, rescale):\n",
    "    for img in data:\n",
    "        if inv_color == 1:\n",
    "            img[img > 0.] = 1. - img[img > 0.]\n",
    "        if rescale == 1:\n",
    "            minn, maxx = np.min(img[img>0]), np.max(img[img>0])\n",
    "            low, hi = 0.1, 1                                                #low, hi rescaling values\n",
    "            img[img>0] = low + (img[img>0] - minn)*(hi - low)/(maxx - minn) #linear re-scaling\n",
    "    return data"
   ]
  },
  {
   "cell_type": "code",
   "execution_count": 3,
   "metadata": {},
   "outputs": [
    {
     "name": "stdout",
     "output_type": "stream",
     "text": [
      "number of train files are: 20\n",
      "('train shape:', (20, 256, 256, 1))\n",
      "number of test files are: 40\n",
      "('test shape:', (40, 256, 256, 1))\n"
     ]
    }
   ],
   "source": [
    "dim, inv_color, rescale = 256, 1, 1\n",
    "train_data, train_target, train_id = read_and_normalize_data('datasets/rings/Train_rings/', dim, dim, 0)\n",
    "test_data, test_target, test_id = read_and_normalize_data('datasets/rings/Test_rings/', dim, dim, 1)\n",
    "\n",
    "#invcolor and rescale\n",
    "if inv_color==1 or rescale==1:\n",
    "    train_data = rescale_and_invcolor(train_data, inv_color, rescale)\n",
    "    test_data = rescale_and_invcolor(test_data, inv_color, rescale)"
   ]
  },
  {
   "cell_type": "code",
   "execution_count": 24,
   "metadata": {},
   "outputs": [
    {
     "name": "stderr",
     "output_type": "stream",
     "text": [
      "Using TensorFlow backend.\n"
     ]
    }
   ],
   "source": [
    "from keras.models import load_model"
   ]
  },
  {
   "cell_type": "code",
   "execution_count": 25,
   "metadata": {
    "collapsed": true
   },
   "outputs": [],
   "source": [
    "filename = 'models/unet_s256_rings_predfull_FL5_glorot_normal.h5'\n",
    "model = load_model(filename)"
   ]
  },
  {
   "cell_type": "code",
   "execution_count": 26,
   "metadata": {
    "collapsed": true
   },
   "outputs": [],
   "source": [
    "n,off=2,0\n",
    "target = model.predict(test_data[off:(n+off)].astype('float32'))\n",
    "target_ids = test_id[off:(n+off)]"
   ]
  },
  {
   "cell_type": "code",
   "execution_count": 4,
   "metadata": {
    "collapsed": true
   },
   "outputs": [],
   "source": [
    "#convert pixel radius to absolute\n",
    "P = cPickle.load(open('datasets/rings/lolaout_test.p', 'r'))\n",
    "\n",
    "master_img_height_pix = 20000.0  #number of pixels for height\n",
    "master_img_height_lat = 180.0\n",
    "R_moon = 1737.0                  #radius of the moon (km)\n",
    "olen = 256.0                     #output length (pixels)"
   ]
  },
  {
   "cell_type": "code",
   "execution_count": 23,
   "metadata": {},
   "outputs": [
    {
     "data": {
      "image/png": "[encoded data removed]",
      "text/plain": [
       "<matplotlib.figure.Figure at 0x10d6c6650>"
      ]
     },
     "metadata": {},
     "output_type": "display_data"
    }
   ],
   "source": [
    "#distribution of pix_to_km values.\n",
    "arr = []\n",
    "for i in range(len(P)):\n",
    "    P_ = P[i]\n",
    "    arr.append(P_['box'][2] - P_['box'][0])\n",
    "    \n",
    "plt.hist(arr,50);\n",
    "#P[0]['llbd']"
   ]
  },
  {
   "cell_type": "markdown",
   "metadata": {},
   "source": [
    "# there's a problem here where the radii are all exactly the same!! Bug somewhere"
   ]
  },
  {
   "cell_type": "code",
   "execution_count": 27,
   "metadata": {},
   "outputs": [
    {
     "name": "stdout",
     "output_type": "stream",
     "text": [
      "[[ 158.93066406  -18.65393066    2.63787938]\n",
      " [ 161.80084229  -18.85534668    3.51717251]\n",
      " [ 161.59942627  -21.17163086    2.63787938]\n",
      " [ 158.72924805  -21.59963989    2.63787938]\n",
      " [ 163.94088745  -21.62481689    3.51717251]\n",
      " [ 163.86535645  -16.71530151    4.39646564]\n",
      " [ 163.91571045  -19.33370972    4.39646564]\n",
      " [ 162.70721436  -19.33370972    4.39646564]\n",
      " [ 163.56323242  -19.56030273    4.39646564]\n",
      " [ 162.93380737  -19.68618774    4.39646564]\n",
      " [ 158.67889404  -22.73260498    3.51717251]\n",
      " [ 162.27920532  -18.04968262    4.39646564]\n",
      " [ 160.29022217  -18.80499268    4.39646564]\n",
      " [ 162.93380737  -19.30853271    4.39646564]\n",
      " [ 163.63876343  -19.35888672    5.27575876]\n",
      " [ 161.27212524  -18.83016968    5.27575876]\n",
      " [ 160.01327515  -19.68618774    5.27575876]\n",
      " [ 158.88031006  -22.22906494    5.27575876]\n",
      " [ 163.86535645  -19.63583374    6.15505189]\n",
      " [ 160.39093018  -20.11419678    7.91363815]\n",
      " [ 161.37283325  -20.01348877   11.43081066]\n",
      " [ 160.23986816  -22.90884399   10.55151753]\n",
      " [ 159.53491211  -18.10003662   13.18939691]\n",
      " [ 158.57818604  -17.99932861   14.06869004]\n",
      " [ 162.83309937  -21.37304687   14.94798317]\n",
      " [ 163.43734741  -18.12521362   14.94798317]]\n",
      "[]\n",
      "[] [ 158.93066406  -18.65393066    2.63787938]\n",
      "[ 158.93066406  -18.65393066    2.63787938]\n"
     ]
    },
    {
     "ename": "TypeError",
     "evalue": "'numpy.float64' object is not iterable",
     "output_type": "error",
     "traceback": [
      "\u001b[0;31m---------------------------------------------------------------------------\u001b[0m",
      "\u001b[0;31mTypeError\u001b[0m                                 Traceback (most recent call last)",
      "\u001b[0;32m<ipython-input-27-fa06ceb43b17>\u001b[0m in \u001b[0;36m<module>\u001b[0;34m()\u001b[0m\n\u001b[1;32m     20\u001b[0m         \u001b[0;32mprint\u001b[0m \u001b[0mpred_crater_dist\u001b[0m\u001b[0;34m\u001b[0m\u001b[0m\n\u001b[1;32m     21\u001b[0m         \u001b[0mdiff\u001b[0m \u001b[0;34m=\u001b[0m \u001b[0;34m(\u001b[0m\u001b[0mpred_crater_dist\u001b[0m \u001b[0;34m-\u001b[0m \u001b[0mtuple_\u001b[0m\u001b[0;34m[\u001b[0m\u001b[0mj\u001b[0m\u001b[0;34m]\u001b[0m\u001b[0;34m)\u001b[0m\u001b[0;34m**\u001b[0m\u001b[0;36m2\u001b[0m\u001b[0;34m\u001b[0m\u001b[0m\n\u001b[0;32m---> 22\u001b[0;31m         \u001b[0mdiffsum\u001b[0m \u001b[0;34m=\u001b[0m \u001b[0mnp\u001b[0m\u001b[0;34m.\u001b[0m\u001b[0masarray\u001b[0m\u001b[0;34m(\u001b[0m\u001b[0;34m[\u001b[0m\u001b[0msum\u001b[0m\u001b[0;34m(\u001b[0m\u001b[0mx\u001b[0m\u001b[0;34m)\u001b[0m \u001b[0;32mfor\u001b[0m \u001b[0mx\u001b[0m \u001b[0;32min\u001b[0m \u001b[0mdiff\u001b[0m\u001b[0;34m]\u001b[0m\u001b[0;34m)\u001b[0m\u001b[0;34m\u001b[0m\u001b[0m\n\u001b[0m\u001b[1;32m     23\u001b[0m         \u001b[0mindex\u001b[0m \u001b[0;34m=\u001b[0m \u001b[0mdiffsum\u001b[0m \u001b[0;34m<\u001b[0m \u001b[0mmatch_thresh2\u001b[0m\u001b[0;34m\u001b[0m\u001b[0m\n\u001b[1;32m     24\u001b[0m         \u001b[0;32mif\u001b[0m \u001b[0mlen\u001b[0m\u001b[0;34m(\u001b[0m\u001b[0mnp\u001b[0m\u001b[0;34m.\u001b[0m\u001b[0mwhere\u001b[0m\u001b[0;34m(\u001b[0m\u001b[0mindex\u001b[0m\u001b[0;34m==\u001b[0m\u001b[0mTrue\u001b[0m\u001b[0;34m)\u001b[0m\u001b[0;34m[\u001b[0m\u001b[0;36m0\u001b[0m\u001b[0;34m]\u001b[0m\u001b[0;34m)\u001b[0m \u001b[0;34m==\u001b[0m \u001b[0;36m0\u001b[0m\u001b[0;34m:\u001b[0m \u001b[0;31m#unique value\u001b[0m\u001b[0;34m\u001b[0m\u001b[0m\n",
      "\u001b[0;31mTypeError\u001b[0m: 'numpy.float64' object is not iterable"
     ]
    }
   ],
   "source": [
    "#code for checking that a discovered crater is new, and hasn't been already discovered in another image.\n",
    "match_thresh2 = 50.\n",
    "dim = 256.\n",
    "pred_crater_dist = np.empty([0,3])\n",
    "for i in range(1):\n",
    "    coords = template_match_target(target[i])  #this is returning tons of duplicates still for some reason... that might be the ultimate issue\n",
    "    P_ = P[test_id[i]]\n",
    "    #mask = np.zeros((dim,dim))\n",
    "    img_pix_height = P_['box'][2] - P_['box'][0]\n",
    "    pix_to_km = (master_img_height_lat/master_img_height_pix)*(np.pi/180.0)*(img_pix_height/olen)*R_moon\n",
    "    long_pix,lat_pix,radii_pix = coords.T\n",
    "    radii_km = radii_pix*pix_to_km\n",
    "    long_deg = P_['llbd'][0] + (P_['llbd'][1]-P_['llbd'][0])*(long_pix/dim)\n",
    "    lat_deg = P_['llbd'][3] - (P_['llbd'][3]-P_['llbd'][2])*(lat_pix/dim)\n",
    "    \n",
    "    tuple_ = np.column_stack((long_deg,lat_deg,radii_km))\n",
    "    print tuple_  #there's a problem here where the radii are all exactly the same!! Bug somewhere\n",
    "    #only add unique (non-duplicate) values to the master pred_crater_dist\n",
    "    for j in range(len(tuple_)):\n",
    "        print pred_crater_dist\n",
    "        diff = (pred_crater_dist - tuple_[j])**2\n",
    "        diffsum = np.asarray([sum(x) for x in diff])\n",
    "        index = diffsum < match_thresh2\n",
    "        if len(np.where(index==True)[0]) == 0: #unique value\n",
    "            print pred_crater_dist, tuple_[j]\n",
    "            pred_crater_dist = np.append(pred_crater_dist,tuple_[j])\n",
    "#             if len(np.where(index==True)[0]) > 0: #duplicate\n",
    "#                 print tuple_[j], pred_crater_dist[index]\n",
    "#                 tuple_ = np.delete(tuple_,j,axis=0)\n",
    "#                 N = len(tuple_)\n",
    "#             else: \n",
    "#                 j += 1\n",
    "                #maybe just add the isolated crater of interest to pred_crater_dist here instead \n",
    "    \n",
    "plt.hist(pred_crater_dist, 10);\n",
    "plt.title('radius distribution of labelled craters')\n",
    "plt.xlabel('crater radius (km)')"
   ]
  },
  {
   "cell_type": "code",
   "execution_count": 37,
   "metadata": {},
   "outputs": [
    {
     "data": {
      "text/plain": [
       "(array([[ 158.93066406,  -18.65393066,    2.63787938],\n",
       "        [ 161.80084229,  -18.85534668,    3.51717251],\n",
       "        [ 161.59942627,  -21.17163086,    2.63787938],\n",
       "        [ 158.72924805,  -21.59963989,    2.63787938],\n",
       "        [ 163.94088745,  -21.62481689,    3.51717251],\n",
       "        [ 163.86535645,  -16.71530151,    4.39646564],\n",
       "        [ 163.91571045,  -19.33370972,    4.39646564],\n",
       "        [ 162.70721436,  -19.33370972,    4.39646564],\n",
       "        [ 163.56323242,  -19.56030273,    4.39646564],\n",
       "        [ 162.93380737,  -19.68618774,    4.39646564],\n",
       "        [ 158.67889404,  -22.73260498,    3.51717251],\n",
       "        [ 162.27920532,  -18.04968262,    4.39646564],\n",
       "        [ 160.29022217,  -18.80499268,    4.39646564],\n",
       "        [ 162.93380737,  -19.30853271,    4.39646564],\n",
       "        [ 163.63876343,  -19.35888672,    5.27575876],\n",
       "        [ 161.27212524,  -18.83016968,    5.27575876],\n",
       "        [ 160.01327515,  -19.68618774,    5.27575876],\n",
       "        [ 158.88031006,  -22.22906494,    5.27575876],\n",
       "        [ 163.86535645,  -19.63583374,    6.15505189],\n",
       "        [ 160.39093018,  -20.11419678,    7.91363815],\n",
       "        [ 161.37283325,  -20.01348877,   11.43081066],\n",
       "        [ 160.23986816,  -22.90884399,   10.55151753],\n",
       "        [ 159.53491211,  -18.10003662,   13.18939691],\n",
       "        [ 158.57818604,  -17.99932861,   14.06869004],\n",
       "        [ 162.83309937,  -21.37304687,   14.94798317],\n",
       "        [ 163.43734741,  -18.12521362,   14.94798317]]),\n",
       " array([[ 32,  84,   3],\n",
       "        [146,  92,   4],\n",
       "        [138, 184,   3],\n",
       "        [ 24, 201,   3],\n",
       "        [231, 202,   4],\n",
       "        [228,   7,   5],\n",
       "        [230, 111,   5],\n",
       "        [182, 111,   5],\n",
       "        [216, 120,   5],\n",
       "        [191, 125,   5],\n",
       "        [ 22, 246,   4],\n",
       "        [165,  60,   5],\n",
       "        [ 86,  90,   5],\n",
       "        [191, 110,   5],\n",
       "        [219, 112,   6],\n",
       "        [125,  91,   6],\n",
       "        [ 75, 125,   6],\n",
       "        [ 30, 226,   6],\n",
       "        [228, 123,   7],\n",
       "        [ 90, 142,   9],\n",
       "        [129, 138,  13],\n",
       "        [ 84, 253,  12],\n",
       "        [ 56,  62,  15],\n",
       "        [ 18,  58,  16],\n",
       "        [187, 192,  17],\n",
       "        [211,  63,  17]]))"
      ]
     },
     "execution_count": 37,
     "metadata": {},
     "output_type": "execute_result"
    }
   ],
   "source": [
    "tuple_, coords"
   ]
  },
  {
   "cell_type": "code",
   "execution_count": 11,
   "metadata": {},
   "outputs": [
    {
     "ename": "IndexError",
     "evalue": "index 0 is out of bounds for axis 0 with size 0",
     "output_type": "error",
     "traceback": [
      "\u001b[0;31m---------------------------------------------------------------------------\u001b[0m",
      "\u001b[0;31mIndexError\u001b[0m                                Traceback (most recent call last)",
      "\u001b[0;32m<ipython-input-11-08b9cad31d84>\u001b[0m in \u001b[0;36m<module>\u001b[0;34m()\u001b[0m\n\u001b[0;32m----> 1\u001b[0;31m \u001b[0mpred_crater_dist\u001b[0m\u001b[0;34m[\u001b[0m\u001b[0mi\u001b[0m\u001b[0;34m]\u001b[0m\u001b[0;34m\u001b[0m\u001b[0m\n\u001b[0m",
      "\u001b[0;31mIndexError\u001b[0m: index 0 is out of bounds for axis 0 with size 0"
     ]
    }
   ],
   "source": [
    "pred_crater_dist[i]"
   ]
  },
  {
   "cell_type": "code",
   "execution_count": 71,
   "metadata": {},
   "outputs": [
    {
     "data": {
      "text/plain": [
       "<matplotlib.text.Text at 0x13307fb50>"
      ]
     },
     "execution_count": 71,
     "metadata": {},
     "output_type": "execute_result"
    },
    {
     "data": {
      "image/png": "[encoded data removed]",
      "text/plain": [
       "<matplotlib.figure.Figure at 0x133e968d0>"
      ]
     },
     "metadata": {},
     "output_type": "display_data"
    }
   ],
   "source": [
    "plt.hist(master_radii_dist, 10)\n",
    "plt.title('radius distribution of labelled craters')\n",
    "plt.xlabel('crater radius (km)')"
   ]
  },
  {
   "cell_type": "code",
   "execution_count": null,
   "metadata": {
    "collapsed": true
   },
   "outputs": [],
   "source": []
  }
 ],
 "metadata": {
  "kernelspec": {
   "display_name": "Python 2",
   "language": "python",
   "name": "python2"
  },
  "language_info": {
   "codemirror_mode": {
    "name": "ipython",
    "version": 2
   },
   "file_extension": ".py",
   "mimetype": "text/x-python",
   "name": "python",
   "nbconvert_exporter": "python",
   "pygments_lexer": "ipython2",
   "version": "2.7.13"
  }
 },
 "nbformat": 4,
 "nbformat_minor": 2
}
