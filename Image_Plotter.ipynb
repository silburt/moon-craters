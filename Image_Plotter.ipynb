{
 "cells": [
  {
   "cell_type": "code",
   "execution_count": 15,
   "metadata": {},
   "outputs": [],
   "source": [
    "import numpy as np\n",
    "from PIL import Image\n",
    "import sys\n",
    "import pandas as pd\n",
    "import cv2\n",
    "import matplotlib.pyplot as plt"
   ]
  },
  {
   "cell_type": "code",
   "execution_count": 2,
   "metadata": {},
   "outputs": [
    {
     "name": "stderr",
     "output_type": "stream",
     "text": [
      "/Users/silburt/anaconda2/envs/py36/lib/python3.6/site-packages/PIL/Image.py:2371: DecompressionBombWarning: Image size (2831155200 pixels) exceeds limit of 89478485 pixels, could be decompression bomb DOS attack.\n",
      "  DecompressionBombWarning)\n"
     ]
    }
   ],
   "source": [
    "# Open image, inport crater files\n",
    "img_global = Image.open('utils/LunarLROLrocKaguya_118mperpix.png').convert(\"L\")"
   ]
  },
  {
   "cell_type": "code",
   "execution_count": 42,
   "metadata": {
    "collapsed": true
   },
   "outputs": [],
   "source": [
    "craters = np.load('datasets/HEAD/HEAD_dev_craterdist_llt0.20_rt0.20.npy')\n",
    "#craters = pd.read_csv('utils/LolaLargeLunarCraterCatalog.csv')"
   ]
  },
  {
   "cell_type": "code",
   "execution_count": 43,
   "metadata": {
    "collapsed": true
   },
   "outputs": [],
   "source": [
    "def pix2coord(x, y, pixbd, llbd):\n",
    "    \"\"\"NEWLY PROGRAMMED\"\"\"\n",
    "    long = (x / pixbd[0]) * (llbd[1] - llbd[0]) + llbd[0]\n",
    "    lat = llbd[3] - (y / pixbd[1]) * (llbd[3] - llbd[2])\n",
    "    return long, lat\n",
    "\n",
    "def coord2pix(long, lat, pixbd, llbd):\n",
    "    \"\"\"NEWLY PROGRAMMED\"\"\"\n",
    "    x = (long - llbd[0]) / (llbd[1] - llbd[0]) * pixbd[0]\n",
    "    y = (llbd[3] - lat) / (llbd[3] - llbd[2]) * pixbd[1]\n",
    "    return x, y\n",
    "\n",
    "# def cropcraters(craters, llbd):\n",
    "#     return craters[(craters.Lon >= llbd[0]) & (craters.Lon < llbd[1]) &\n",
    "#                    (craters.Lat >= llbd[2]) & (craters.Lat < llbd[3])]\n",
    "\n",
    "def cropcraters(craters, llbd):\n",
    "    return craters[(craters.T[0] >= llbd[0]) & (craters.T[0] < llbd[1]) &\n",
    "                   (craters.T[1] >= llbd[2]) & (craters.T[1] < llbd[3])]"
   ]
  },
  {
   "cell_type": "code",
   "execution_count": 122,
   "metadata": {},
   "outputs": [
    {
     "name": "stdout",
     "output_type": "stream",
     "text": [
      "12 11\n"
     ]
    }
   ],
   "source": [
    "Nx = int((61400.-30800)/rawlen)\n",
    "Ny = int(28000./rawlen)\n",
    "print(Nx,Ny)"
   ]
  },
  {
   "cell_type": "code",
   "execution_count": 132,
   "metadata": {},
   "outputs": [
    {
     "name": "stdout",
     "output_type": "stream",
     "text": [
      "0 of 90\n",
      "1 of 90\n",
      "2 of 90\n",
      "3 of 90\n",
      "4 of 90\n",
      "5 of 90\n",
      "6 of 90\n",
      "7 of 90\n",
      "8 of 90\n",
      "9 of 90\n",
      "1 of 90\n",
      "2 of 90\n",
      "3 of 90\n",
      "4 of 90\n",
      "5 of 90\n",
      "6 of 90\n",
      "7 of 90\n",
      "8 of 90\n",
      "9 of 90\n",
      "10 of 90\n",
      "2 of 90\n",
      "3 of 90\n",
      "4 of 90\n",
      "5 of 90\n",
      "6 of 90\n",
      "7 of 90\n",
      "8 of 90\n",
      "9 of 90\n",
      "10 of 90\n",
      "11 of 90\n",
      "3 of 90\n",
      "4 of 90\n",
      "5 of 90\n",
      "6 of 90\n",
      "7 of 90\n",
      "8 of 90\n",
      "9 of 90\n",
      "10 of 90\n",
      "11 of 90\n",
      "12 of 90\n",
      "4 of 90\n",
      "5 of 90\n",
      "6 of 90\n",
      "7 of 90\n",
      "8 of 90\n",
      "9 of 90\n",
      "10 of 90\n",
      "11 of 90\n",
      "12 of 90\n",
      "13 of 90\n",
      "5 of 90\n",
      "6 of 90\n",
      "7 of 90\n",
      "8 of 90\n",
      "9 of 90\n",
      "10 of 90\n",
      "11 of 90\n",
      "12 of 90\n",
      "13 of 90\n",
      "14 of 90\n",
      "6 of 90\n",
      "7 of 90\n",
      "8 of 90\n",
      "9 of 90\n",
      "10 of 90\n",
      "11 of 90\n",
      "12 of 90\n",
      "13 of 90\n",
      "14 of 90\n",
      "15 of 90\n",
      "7 of 90\n",
      "8 of 90\n",
      "9 of 90\n",
      "10 of 90\n",
      "11 of 90\n",
      "12 of 90\n",
      "13 of 90\n",
      "14 of 90\n",
      "15 of 90\n",
      "16 of 90\n",
      "8 of 90\n",
      "9 of 90\n",
      "10 of 90\n",
      "11 of 90\n",
      "12 of 90\n",
      "13 of 90\n",
      "14 of 90\n",
      "15 of 90\n",
      "16 of 90\n",
      "17 of 90\n"
     ]
    }
   ],
   "source": [
    "# Try some random crop thing:\n",
    "\n",
    "rawlen = 3000\n",
    "Nx = int((61400.-30800)/rawlen)\n",
    "Ny = int(28000./rawlen)\n",
    "xc, yc = 30800, 0\n",
    "\n",
    "for j in range(Ny):\n",
    "    for i in range(Nx):\n",
    "        print(\"%d of %d\"%(i+Nx*j,Nx*Ny))\n",
    "        #xc, yc, rawlen = np.random.randint(30800,61400), np.random.randint(0,28000), np.random.randint(3000,4000)\n",
    "        box = np.array([xc, yc, xc + rawlen, yc + rawlen], dtype='int32')\n",
    "        box[0::2], box[1::2]\n",
    "\n",
    "        img = img_global.crop(box)\n",
    "        llbd = pix2coord(box[0::2], box[1::2], img_global.size, [-180., 180., -60., 60.])\n",
    "        llbd = np.concatenate([llbd[0], llbd[1][::-1]])\n",
    "        ctrs_sub = cropcraters(craters, llbd)\n",
    "\n",
    "        x, y = coord2pix(ctrs_sub.T[0], ctrs_sub.T[1], img.size, llbd)\n",
    "        r = ctrs_sub.T[2]/((llbd[3]-llbd[2])*(np.pi / 180.0)*(1737.4/(box[2]-box[0])))\n",
    "\n",
    "        f, (ax1, ax2) = plt.subplots(1,2, figsize=[13, 8])\n",
    "        ax1.imshow(np.asanyarray(img), cmap='Greys_r', vmin=75, vmax=200)\n",
    "        ax1.set_title(llbd)\n",
    "        ax2.imshow(np.asanyarray(img), cmap='Greys_r', vmin=75, vmax=200)\n",
    "        ax2.set_title('xc=%d, yc=%d, rawlen=%d'%(xc,yc,rawlen))\n",
    "        for i in range(len(ctrs_sub)):\n",
    "            circle = plt.Circle((x[i], y[i]), r[i], color='blue', fill=False)\n",
    "            ax2.add_artist(circle)\n",
    "        plt.savefig('output_dir/images/remap/xc%d_yc%d_rawlen%d.png'%(xc,yc,rawlen))\n",
    "        plt.close()\n",
    "\n",
    "        xc += rawlen\n",
    "    xc = 30800\n",
    "    yc += rawlen"
   ]
  },
  {
   "cell_type": "code",
   "execution_count": null,
   "metadata": {
    "collapsed": true
   },
   "outputs": [],
   "source": []
  }
 ],
 "metadata": {
  "kernelspec": {
   "display_name": "Python 3",
   "language": "python",
   "name": "python3"
  },
  "language_info": {
   "codemirror_mode": {
    "name": "ipython",
    "version": 3
   },
   "file_extension": ".py",
   "mimetype": "text/x-python",
   "name": "python",
   "nbconvert_exporter": "python",
   "pygments_lexer": "ipython3",
   "version": "3.6.2"
  }
 },
 "nbformat": 4,
 "nbformat_minor": 2
}
